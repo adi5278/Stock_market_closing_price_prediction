{
 "cells": [
  {
   "cell_type": "code",
   "execution_count": 3,
   "metadata": {},
   "outputs": [],
   "source": [
    "# Importing Libraries\n",
    "\n",
    "import numpy as np\n",
    "import pandas as pd\n",
    "import matplotlib.pyplot as plt\n",
    "import math\n",
    "from sklearn.model_selection import train_test_split\n",
    "from sklearn.ensemble import RandomForestRegressor\n",
    "from sklearn.metrics import r2_score,mean_squared_error"
   ]
  },
  {
   "cell_type": "code",
   "execution_count": 4,
   "metadata": {},
   "outputs": [
    {
     "name": "stderr",
     "output_type": "stream",
     "text": [
      "C:\\Users\\user\\anaconda3\\lib\\site-packages\\ipykernel_launcher.py:18: SettingWithCopyWarning: \n",
      "A value is trying to be set on a copy of a slice from a DataFrame\n",
      "\n",
      "See the caveats in the documentation: https://pandas.pydata.org/pandas-docs/stable/user_guide/indexing.html#returning-a-view-versus-a-copy\n",
      "C:\\Users\\user\\anaconda3\\lib\\site-packages\\ipykernel_launcher.py:23: SettingWithCopyWarning: \n",
      "A value is trying to be set on a copy of a slice from a DataFrame\n",
      "\n",
      "See the caveats in the documentation: https://pandas.pydata.org/pandas-docs/stable/user_guide/indexing.html#returning-a-view-versus-a-copy\n",
      "C:\\Users\\user\\anaconda3\\lib\\site-packages\\ipykernel_launcher.py:32: SettingWithCopyWarning: \n",
      "A value is trying to be set on a copy of a slice from a DataFrame\n",
      "\n",
      "See the caveats in the documentation: https://pandas.pydata.org/pandas-docs/stable/user_guide/indexing.html#returning-a-view-versus-a-copy\n"
     ]
    }
   ],
   "source": [
    "#Data Preprocessing -- Turning data into required useful data\n",
    "\n",
    "df = pd.read_csv(\"PFE.csv\")\n",
    "df= df[df.Volume!=0]\n",
    "df = df.reset_index(drop=True)\n",
    "df = df.drop(np.where(np.isnan(df['Volume'].to_numpy().astype('float32')))[0])\n",
    "df = df.reset_index(drop=True)\n",
    "\n",
    "rows = df.shape[0]\n",
    "columns = df.shape[1]\n",
    "\n",
    "df[\"Open-Close\"] = df[\"Open\"] - df[\"Close\"]   # Open - Close\n",
    "df[\"High-Low\"] = df[\"High\"] - df[\"Low\"]       # High - Low\n",
    "\n",
    "# 7 day Moving Average\n",
    "df[\"7DMA\"]=0.000000\n",
    "for i in range(6,rows):\n",
    "    df[\"7DMA\"][i] = (df[\"Close\"][i]+df[\"Close\"][i-1]+df[\"Close\"][i-2]+df[\"Close\"][i-3]+df[\"Close\"][i-4]+df[\"Close\"][i-5]+df[\"Close\"][i-6])/7\n",
    "\n",
    "#21 Day Moving Average\n",
    "df[\"21DMA\"]=0.000000\n",
    "for i in range(20,rows):\n",
    "    df[\"21DMA\"][i] = (df[\"Close\"][i]+df[\"Close\"][i-1]+df[\"Close\"][i-2]+df[\"Close\"][i-3]+df[\"Close\"][i-4]+df[\"Close\"][i-5]+df[\"Close\"][i-6]+df[\"Close\"][i-7]+df[\"Close\"][i-8]+df[\"Close\"][i-9]+df[\"Close\"][i-10]+df[\"Close\"][i-11]+df[\"Close\"][i-12]+df[\"Close\"][i-13]+df[\"Close\"][i-14]+df[\"Close\"][i-15]+df[\"Close\"][i-16]+df[\"Close\"][i-17]+df[\"Close\"][i-18]+df[\"Close\"][i-19]+df[\"Close\"][i-20])/21\n",
    "    \n",
    "# 7 day Standard Deviation\n",
    "import math\n",
    "df[\"7DSD\"]=0.000000\n",
    "for i in range(6,rows):\n",
    "    sum = 0.000000\n",
    "    for j in range(7):\n",
    "        sum = sum + (df[\"Close\"][i-j] - df[\"7DMA\"][i])**2\n",
    "    df[\"7DSD\"][i] = math.sqrt(sum/7)\n",
    "\n",
    "# Next day Closing Price\n",
    "# df = df[df.Date!=\"2021-04-30\"]\n",
    "ndf = df.copy()\n",
    "ndf = ndf.drop(0)\n",
    "ndf = ndf.reset_index(drop=True)\n",
    "df[\"Next\"] = ndf.Close\n",
    "# df[\"Next\"][6348] = 1994.45\n",
    "\n",
    "df = df.drop(columns=['Open','High','Close','Adj Close','Low'])\n",
    "ndf = df[df['21DMA']!=0]\n",
    "ndf = ndf.drop(rows-1)\n",
    "ndf = ndf.reset_index(drop=True)"
   ]
  },
  {
   "cell_type": "code",
   "execution_count": 5,
   "metadata": {},
   "outputs": [],
   "source": [
    "# Forming Dependent and Independent variables x and y\n",
    "\n",
    "X = ndf[['Date','Volume','Open-Close','High-Low','7DMA','21DMA','7DSD']].to_numpy()\n",
    "y = ndf['Next'].to_numpy()\n",
    "x = X[:,1:]"
   ]
  },
  {
   "cell_type": "code",
   "execution_count": 6,
   "metadata": {},
   "outputs": [
    {
     "data": {
      "image/png": "[encoded data removed]",
      "text/plain": [
       "<Figure size 432x288 with 1 Axes>"
      ]
     },
     "metadata": {
      "needs_background": "light"
     },
     "output_type": "display_data"
    }
   ],
   "source": [
    "# Graph plot before Prediction\n",
    "\n",
    "date =[]\n",
    "for i in range(0,X.shape[0],1000):\n",
    "    date.append(X[:,0][i])\n",
    "\n",
    "plt.plot(X[:,0],y,color='blue',label='Price')\n",
    "plt.title('PFIZER INC.')\n",
    "plt.xticks(date,rotation=90)\n",
    "plt.xlabel('Date')\n",
    "plt.ylabel('Price of a Stock')\n",
    "plt.legend()\n",
    "plt.show()"
   ]
  },
  {
   "cell_type": "code",
   "execution_count": 7,
   "metadata": {},
   "outputs": [],
   "source": [
    "# Data Splitting into Training and Testing data\n",
    "\n",
    "X_train, X_test, y_train, y_test = train_test_split(X, y, test_size = 0.1, random_state = 0)\n",
    "x_train = X_train[:,1:]\n",
    "x_test = X_test[:,1:]"
   ]
  },
  {
   "cell_type": "code",
   "execution_count": 8,
   "metadata": {},
   "outputs": [
    {
     "data": {
      "text/plain": [
       "RandomForestRegressor(bootstrap=True, ccp_alpha=0.0, criterion='mse',\n",
       "                      max_depth=None, max_features='auto', max_leaf_nodes=None,\n",
       "                      max_samples=None, min_impurity_decrease=0.0,\n",
       "                      min_impurity_split=None, min_samples_leaf=1,\n",
       "                      min_samples_split=2, min_weight_fraction_leaf=0.0,\n",
       "                      n_estimators=500, n_jobs=None, oob_score=False,\n",
       "                      random_state=0, verbose=0, warm_start=False)"
      ]
     },
     "execution_count": 8,
     "metadata": {},
     "output_type": "execute_result"
    }
   ],
   "source": [
    "# Regression Model\n",
    "\n",
    "regressor = RandomForestRegressor(n_estimators = 500, random_state = 0)\n",
    "regressor.fit(x_train, y_train)"
   ]
  },
  {
   "cell_type": "code",
   "execution_count": 9,
   "metadata": {},
   "outputs": [
    {
     "name": "stdout",
     "output_type": "stream",
     "text": [
      "[[36.77 37.28]\n",
      " [16.1  16.34]\n",
      " [16.53 15.02]\n",
      " ...\n",
      " [ 5.81  5.68]\n",
      " [ 0.55  0.57]\n",
      " [25.3  25.66]]\n"
     ]
    }
   ],
   "source": [
    "# Testing and Prediction based on Model\n",
    "\n",
    "y_pred = regressor.predict(x_test)\n",
    "np.set_printoptions(precision=2)\n",
    "print(np.concatenate((y_pred.reshape(len(y_pred),1), y_test.reshape(len(y_test),1)),1))"
   ]
  },
  {
   "cell_type": "code",
   "execution_count": 10,
   "metadata": {},
   "outputs": [
    {
     "name": "stdout",
     "output_type": "stream",
     "text": [
      "R2 score:  0.9985699428408032\n",
      "RMSE:  0.5365233694951793\n",
      "MAPE:  1.8163308782787184\n",
      "MBE:  -0.01532774964034936\n"
     ]
    }
   ],
   "source": [
    "# Evaluation of Performnace of Model\n",
    "\n",
    "def mean_absolute_percentage_error(y_true, y_pred):\n",
    "    return np.mean(np.abs((y_true - y_pred) / y_true)) * 100\n",
    "def mean_biased_error(y_true, y_pred):\n",
    "    return (y_true-y_pred).mean()\n",
    "\n",
    "\n",
    "print(\"R2 score: \",r2_score(y_test, y_pred))\n",
    "print(\"RMSE: \",mean_squared_error(y_test,y_pred,squared=False))\n",
    "print(\"MAPE: \",mean_absolute_percentage_error(y_test,y_pred))\n",
    "print(\"MBE: \",mean_biased_error(y_test,y_pred))"
   ]
  },
  {
   "cell_type": "code",
   "execution_count": 11,
   "metadata": {
    "scrolled": true
   },
   "outputs": [
    {
     "data": {
      "image/png": "[encoded data removed]",
      "text/plain": [
       "<Figure size 432x288 with 1 Axes>"
      ]
     },
     "metadata": {
      "needs_background": "light"
     },
     "output_type": "display_data"
    }
   ],
   "source": [
    "#Graph after Prediction\n",
    "\n",
    "date =[]\n",
    "for i in range(0,X.shape[0],1000):\n",
    "    date.append(X[:,0][i])\n",
    "\n",
    "plt.plot(X[:,0],y,color='blue',label='Actual Price')\n",
    "plt.plot(X[:,0],regressor.predict(x),color='red',label='Prediction Price')\n",
    "plt.title('PFIZER INC.')\n",
    "plt.xticks(date,rotation=90)\n",
    "plt.xlabel('Date')\n",
    "plt.ylabel('Price of a Stock')\n",
    "plt.legend()\n",
    "plt.show()"
   ]
  },
  {
   "cell_type": "code",
   "execution_count": 14,
   "metadata": {},
   "outputs": [
    {
     "name": "stdout",
     "output_type": "stream",
     "text": [
      "Next day Prediction after date 2021-05-28 is $. 39.82\n",
      "Last 3 days prediction vs actual value\n",
      "Date\t\tPrediction\tActual\n",
      "2021-05-28 \t 39.32 \t\t 38.7300\n",
      "2021-05-28 \t 39.64 \t\t 38.6500\n",
      "2021-05-27 \t 39.72 \t\t 38.9200\n"
     ]
    }
   ],
   "source": [
    "# Running Model on real time data using API\n",
    "\n",
    "import requests\n",
    "import math\n",
    "\n",
    "def features(api_response):\n",
    "    arr = list(api_response['Time Series (Daily)'].values())\n",
    "    new=[{'volume':float(arr[0]['5. volume']),'date':list(api_response['Time Series (Daily)'].keys())[0]},{'volume':float(arr[1]['5. volume'])},{'volume':float(arr[2]['5. volume'])},{'volume':float(arr[3]['5. volume'])}]\n",
    "\n",
    "    for i in range(4):\n",
    "        new[i]['o_c'] = round(float(arr[i]['1. open']) - float(arr[i]['4. close']),6)\n",
    "\n",
    "    for i in range(4):\n",
    "        new[i]['h_l'] = round(float(arr[i]['2. high']) - float(arr[i]['3. low']),6)\n",
    "\n",
    "    for i in range(4):\n",
    "        sum_7 = 0\n",
    "        for j in range(i,i+7):\n",
    "            sum_7 = sum_7 + float(arr[j]['4. close'])\n",
    "        avg_7 = round(sum_7/7,6)\n",
    "        new[i]['avg_7'] = avg_7\n",
    "\n",
    "    for i in range(4):\n",
    "        sum_21 = 0\n",
    "        for j in range(i,i+21):\n",
    "            sum_21 = sum_21 + float(arr[j]['4. close'])\n",
    "        avg_21 = round(sum_21/21,6)\n",
    "        new[i]['avg_21'] = avg_21\n",
    "\n",
    "    for i in range(4):\n",
    "        sum_sd = 0;\n",
    "        for j in range(i,i+7):\n",
    "            sum_sd = sum_sd + (float(arr[j]['4. close']) - new[i]['avg_7'])**2\n",
    "        sd_7 = round(math.sqrt(sum_sd/7),6)\n",
    "        new[i]['sd_7'] = sd_7\n",
    "\n",
    "    for i in range(4):\n",
    "        ip = [[new[i]['volume'],new[i]['o_c'],new[i]['h_l'],new[i]['avg_7'],new[i]['avg_21'],new[i]['sd_7']]]\n",
    "        new[i]['prediction'] = round(regressor.predict(ip)[0],2)\n",
    "\n",
    "    for i in range(1,4):  \n",
    "        new[i]['actual'] = arr[i-1]['4. close']\n",
    "        new[i]['date'] = list(api_response['Time Series (Daily)'].keys())[i-1]\n",
    "    \n",
    "    return new\n",
    "\n",
    "params = {\n",
    "    'function': 'TIME_SERIES_DAILY',\n",
    "    'symbol': 'PFE',\n",
    "    'outputsize' :'full',\n",
    "    'apikey' : 'your-api-key'\n",
    "#   'query': 'New York'\n",
    "}\n",
    "try:\n",
    "    api_result = requests.get('https://www.alphavantage.co/query', params)\n",
    "    api_response = api_result.json()\n",
    "\n",
    "    new = features(api_response)\n",
    "    print(\"Next day Prediction after date\",new[0]['date'],\"is $.\",new[0]['prediction'])\n",
    "    print(\"Last 3 days prediction vs actual value\")\n",
    "    print(\"Date\\t\\tPrediction\\tActual\")\n",
    "    for i in range(1,4):\n",
    "        print(new[i-1]['date'],\"\\t\",new[i]['prediction'],\"\\t\\t\",new[i]['actual'])\n",
    "except:\n",
    "    print(\"Please Check your Internet Connection\")"
   ]
  },
  {
   "cell_type": "code",
   "execution_count": null,
   "metadata": {},
   "outputs": [],
   "source": []
  }
 ],
 "metadata": {
  "kernelspec": {
   "display_name": "Python 3",
   "language": "python",
   "name": "python3"
  },
  "language_info": {
   "codemirror_mode": {
    "name": "ipython",
    "version": 3
   },
   "file_extension": ".py",
   "mimetype": "text/x-python",
   "name": "python",
   "nbconvert_exporter": "python",
   "pygments_lexer": "ipython3",
   "version": "3.7.6"
  }
 },
 "nbformat": 4,
 "nbformat_minor": 4
}
